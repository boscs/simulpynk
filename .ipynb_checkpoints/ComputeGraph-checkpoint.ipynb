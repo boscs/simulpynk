{
 "cells": [
  {
   "cell_type": "code",
   "execution_count": 2,
   "metadata": {},
   "outputs": [],
   "source": [
    "from anytree import Node\n",
    "from dataclasses import dataclass,field\n",
    "import inspect"
   ]
  },
  {
   "cell_type": "code",
   "execution_count": 4,
   "metadata": {},
   "outputs": [],
   "source": [
    "class UnknownVarName(Exception): pass\n",
    "\n",
    "\n",
    "class Vars():\n",
    "    def __init__(self, name, f, deps):\n",
    "        self.name = name\n",
    "        self.f = f\n",
    "        self.deps = [*deps]\n",
    "        self.input_deps = []\n",
    "        self.changed = True\n",
    "        self.val = None\n",
    "    def __call__(self, opt = False, graph: ComputeGraphMC):\n",
    "        if not opt:\n",
    "            newdeps = []\n",
    "            for dep in self.deps :\n",
    "                graph._\n",
    "        pass\n",
    "\n",
    "class InputVar(Vars):\n",
    "    def __init__(self, val):\n",
    "        self.name = name\n",
    "        self.val = val\n",
    "        self.f = lambda: raise NotImplemented()\n",
    "        self.changed = True\n",
    "        self.isinput = True\n",
    "    def __call__(self):\n",
    "        self.changed = False\n",
    "        return self.val\n",
    "    \n",
    "\n",
    "@dataclass\n",
    "class ComputeGraphMC():\n",
    "    '''Class for keeping track of an item in inventory.'''\n",
    "    _vars: dict = field(default_factory=dict)\n",
    "    _unopt_vars :list = field(default_factory=list)\n",
    "    _inputs: dict = field(default_factory=dict)\n",
    "    def add(self,f):\n",
    "        newVarsName =  f.__name__\n",
    "        deps = inspect.getfullargspec(f).args\n",
    "        deps = [ self._vars[newVarsName] if dep in self._vars.keys() else dep for dep in deps]\n",
    "        self._vars[newVarsName] = Vars(newVarsName,f,deps)\n",
    "        self._unopt_vars = list(self._vars.keys())\n",
    "    def setInputs(self,**kwargs):\n",
    "        for k,v in kwargs:\n",
    "            self._inputs[k] = v\n",
    "            self._changed_inputs\n",
    "    def __getattr__(self,name):\n",
    "        if name not in self._vars : raise UnknownVarName()\n",
    "        if name in self._unopt_vars:\n",
    "            ret, opt_deps =self._vars[name]()\n",
    "            for varName in opt_deps:\n",
    "                self._unopt_vars.remove(varName)\n",
    "        else:\n",
    "            ret = self._vars[name](opt = True)\n",
    "graph = ComputeGraphMC()\n",
    "def addAB(a:int,b:int):\n",
    "    return a+b\n",
    "graph.add(addAB)"
   ]
  },
  {
   "cell_type": "code",
   "execution_count": null,
   "metadata": {},
   "outputs": [],
   "source": [
    "graph."
   ]
  }
 ],
 "metadata": {
  "kernelspec": {
   "display_name": "Python [conda env:root] *",
   "language": "python",
   "name": "conda-root-py"
  },
  "language_info": {
   "codemirror_mode": {
    "name": "ipython",
    "version": 3
   },
   "file_extension": ".py",
   "mimetype": "text/x-python",
   "name": "python",
   "nbconvert_exporter": "python",
   "pygments_lexer": "ipython3",
   "version": "3.7.3"
  }
 },
 "nbformat": 4,
 "nbformat_minor": 2
}
