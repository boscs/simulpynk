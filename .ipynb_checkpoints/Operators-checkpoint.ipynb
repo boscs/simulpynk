{
 "cells": [
  {
   "cell_type": "code",
   "execution_count": null,
   "metadata": {},
   "outputs": [],
   "source": [
    "#default_exp operators"
   ]
  },
  {
   "cell_type": "code",
   "execution_count": 28,
   "metadata": {},
   "outputs": [],
   "source": [
    "#export\n",
    "class Operator():\n",
    "    def __init__(self,input_var_names:list=[],namePrefix:str = None, observes:bool = False):\n",
    "        self.__name__ = f\"{namePrefix}_{'_'.join(input_var_names)}\"\n",
    "        if type(input_var_names) == str : input_var_names = [input_var_names]\n",
    "        self._args = [*input_var_names] \n",
    "        if len(input_var_names) == 1: self._args = input_var_names[0].split()\n",
    "        self._observes = observes\n",
    "        self._wasNeverRun = True\n",
    "    def firstrun(self,*args):\n",
    "        pass\n",
    "    def run(self, *args):\n",
    "        raise NotImplemented(\"Operator is abstract, you must subclass it\")\n",
    "    def __call__(self,*args):\n",
    "        if self._wasNeverRun :\n",
    "            self._wasNeverRun = False\n",
    "            self.firstrun(*args)\n",
    "        return self.run(*args)\n",
    "\n",
    "class Avg(Operator):\n",
    "    \"\"\"\n",
    "    Compute the running average of a variable of name passed as\n",
    "    `input_var_name` and output a var named `name` if passed else \"Avg_\"+`input_var_name`\n",
    "    \n",
    "    Args:\n",
    "    ========================\n",
    "        * `input_var_name`: str or list<str>\n",
    "        if str, content is splitted by spaces\n",
    "        * `name` (optional) : str\n",
    "    \n",
    "    \"\"\"\n",
    "    def __init__(self,input_var_name):\n",
    "        super().__init__(input_var_names = [input_var_name],namePrefix = \"Avg\", observes = True)\n",
    "        self._running_avg:float = 0\n",
    "        self._running_count:int = 0\n",
    "    def run(self,varin):\n",
    "        self._running_count += 1\n",
    "        self._running_avg = (varin/self._running_count) + (self._running_avg*((self._running_count-1)/self._running_count) )\n",
    "        return self._running_avg\n",
    "\n",
    "class Acc(Operator):\n",
    "    def __init__(self,input_var_name):\n",
    "        super().__init__(input_var_names = [input_var_name],namePrefix = \"Acc\",  observes = True)\n",
    "        self._running_sum:float = 0\n",
    "    def run(self,varin):\n",
    "        self._running_sum += varin\n",
    "        return self._running_sum\n",
    "\n",
    "class Exp_avg(Operator):\n",
    "    def __init__(self,input_var_name, alpha = 0.9):\n",
    "        super().__init__(input_var_names = [input_var_name],namePrefix = \"Exp_avg\", observes = True)\n",
    "        self._running_avg:float = 0\n",
    "        assert(0<alpha<1)\n",
    "        self._alpha : float = alpha\n",
    "        self._1_minus_alpha : float = (1. - alpha)\n",
    "    def run(self,varin):\n",
    "        self._running_avg = (self.alpha * self._running_avg) + (self._1_minus_alpha * varin)\n",
    "        return self._running_avg\n",
    "\n",
    "class Linear(Operator):\n",
    "    def __init__(self,input_var_name, gain = 1, bias =0):\n",
    "        super().__init__(input_var_names = [input_var_name], namePrefix=\"Linear\")\n",
    "        self.gain = gain\n",
    "        self.bias = bias\n",
    "    def run(self,varin): return self.gain * varin + self.bias \n",
    "\n",
    "class Add(Operator):\n",
    "    \"\"\"Adds every vars passed as imputs\"\"\"\n",
    "    def __init__(self,*input_var_names):\n",
    "        super().__init__(*input_var_names, namePrefix=\"Add\")\n",
    "    def run(self,*inputs): \n",
    "        ret = 0\n",
    "        for inp in inputs : ret += inp\n",
    "        return inp\n",
    "class Delay(Operator):\n",
    "    def __init__(self,input_var_name, init_val, delay_in_step:int=1):\n",
    "        super().__init__(input_var_names = [input_var_name],namePrefix = \"Delayed\",  observes = True)\n",
    "        assert(type(delay) == int)\n",
    "        from collections import deque\n",
    "        self._past_vals : deque = deque([init_val for i in range(delay_in_step)])\n",
    "    def run(self,varin):\n",
    "        self._past_vals.append(varin)\n",
    "        return self._past_vals.popleft()\n",
    "\n",
    "class Const(Operator):\n",
    "    def __init__(self, val):\n",
    "        super().__init__([], observes = True, namePrefix=\"Const\")\n",
    "        self._val = val\n",
    "    def run(self):return self._val\n",
    "\n"
   ]
  },
  {
   "cell_type": "code",
   "execution_count": 33,
   "metadata": {},
   "outputs": [
    {
     "name": "stdout",
     "output_type": "stream",
     "text": [
      "Converted GC.ipynb.\n",
      "Converted operators.ipynb.\n"
     ]
    }
   ],
   "source": [
    "#hide\n",
    "from local.notebook.export import notebook2script\n",
    "notebook2script(all_fs=True)"
   ]
  },
  {
   "cell_type": "code",
   "execution_count": null,
   "metadata": {},
   "outputs": [],
   "source": [
    "\n",
    "if len(input_var_names) == 1 : input_var_names[0].split()"
   ]
  }
 ],
 "metadata": {
  "kernelspec": {
   "display_name": "Python [conda env:root] *",
   "language": "python",
   "name": "conda-root-py"
  },
  "language_info": {
   "codemirror_mode": {
    "name": "ipython",
    "version": 3
   },
   "file_extension": ".py",
   "mimetype": "text/x-python",
   "name": "python",
   "nbconvert_exporter": "python",
   "pygments_lexer": "ipython3",
   "version": "3.7.3"
  }
 },
 "nbformat": 4,
 "nbformat_minor": 2
}
