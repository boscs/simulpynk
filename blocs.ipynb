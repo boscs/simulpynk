{
 "cells": [
  {
   "cell_type": "code",
   "execution_count": 13,
   "metadata": {},
   "outputs": [],
   "source": [
    "#default_exp blocs"
   ]
  },
  {
   "cell_type": "code",
   "execution_count": 32,
   "metadata": {},
   "outputs": [],
   "source": [
    "import local.cg as cg\n"
   ]
  },
  {
   "cell_type": "code",
   "execution_count": 3,
   "metadata": {},
   "outputs": [],
   "source": [
    "#export\n",
    "class Operator():\n",
    "    def __init__(self,input_var_names=[],namePrefix:str = None, observes:bool = False):\n",
    "        self.__name__ = f\"{namePrefix}_{'_'.join(input_var_names)}\"\n",
    "        if type(input_var_names) == str : input_var_names = [input_var_names]\n",
    "        self._args = [*input_var_names] \n",
    "        if len(input_var_names) == 1: self._args = input_var_names[0].split()\n",
    "        self._observes = observes\n",
    "    def __call__(self,*args):\n",
    "        raise NotImplemented(\"Operator is abstract, you must subclass it\")\n"
   ]
  },
  {
   "cell_type": "code",
   "execution_count": 15,
   "metadata": {},
   "outputs": [],
   "source": [
    "#export \n",
    "class Avg(Operator):\n",
    "    \"\"\"\n",
    "    Compute the running average of a variable of name passed as\n",
    "    `input_var_name` and output a var named \"Avg_\"+`input_var_name`\n",
    "    \n",
    "    Args:\n",
    "    ========================\n",
    "        * `input_var_name`: str or list<str>\n",
    "        if str, content is splitted by spaces\n",
    "    \n",
    "    \"\"\"\n",
    "    def __init__(self,input_var_name):\n",
    "        super().__init__(input_var_names = [input_var_name],namePrefix = \"Avg\", observes = True)\n",
    "        self._running_avg:float = 0\n",
    "        self._running_count:int = 0\n",
    "    def __call__(self,varin):\n",
    "        self._running_count += 1\n",
    "        self._running_avg = (varin/self._running_count) + (self._running_avg*((self._running_count-1)/self._running_count) )\n",
    "        #print(f\"run A {self._running_avg}\")\n",
    "        return self._running_avg\n",
    "\n",
    "class Exp_avg(Operator):\n",
    "    \"\"\"\n",
    "    Compute the running Exponential average of a variable of name passed as\n",
    "    `input_var_name` and output a var named \"Exp_avg_\"+`input_var_name`\n",
    "    \n",
    "    Args:\n",
    "    ========================\n",
    "        * `input_var_name`: str or list<str>\n",
    "        if str, content is splitted by spaces\n",
    "    \n",
    "    \"\"\"\n",
    "    def __init__(self,input_var_name, alpha = 0.9):\n",
    "        super().__init__(input_var_names = [input_var_name],namePrefix = \"Exp_avg\", observes = True)\n",
    "        self._running_avg:float = 0\n",
    "        assert(0<alpha<1)\n",
    "        self._alpha : float = alpha\n",
    "        self._1_minus_alpha : float = (1. - alpha)\n",
    "    def __call__(self,varin):\n",
    "        self._running_avg = (self._alpha * self._running_avg) + (self._1_minus_alpha * varin)\n",
    "        #print(f\"run EA {self._running_avg}\")\n",
    "        return self._running_avg    \n",
    "\n",
    "\n",
    "class Acc(Operator):\n",
    "    \"\"\"\n",
    "    Sum each value took by `input_var_name` and output a var named  \"Acc_\"+`input_var_name`\n",
    "    \n",
    "    Args:\n",
    "    ========================\n",
    "        * `input_var_name`: str or list<str>\n",
    "        if str, content is splitted by spaces\n",
    "    \n",
    "    \"\"\"\n",
    "    def __init__(self,input_var_name):\n",
    "        super().__init__(input_var_names = [input_var_name],namePrefix = \"Acc\",  observes = True)\n",
    "        self._running_sum:float = 0\n",
    "    def __call__(self,varin):\n",
    "        self._running_sum += varin\n",
    "        #print(f\"run Acc {self._running_sum}\")\n",
    "        return self._running_sum"
   ]
  },
  {
   "cell_type": "code",
   "execution_count": null,
   "metadata": {},
   "outputs": [],
   "source": []
  },
  {
   "cell_type": "code",
   "execution_count": 5,
   "metadata": {},
   "outputs": [
    {
     "name": "stdout",
     "output_type": "stream",
     "text": [
      "25.0 1275 49.9999999\n",
      "b = 1275.0\n"
     ]
    }
   ],
   "source": [
    "#test\n",
    "AvgA = Avg(\"A\")\n",
    "AccA = Acc(\"A\")\n",
    "Exp_avgA = Exp_avg(\"A\",alpha = 0.0000001)\n",
    "a,b,c = 0,0,0\n",
    "for i in range(51): \n",
    "    a,b,c = AvgA(i),AccA(i),Exp_avgA(i)\n",
    "\n",
    "print(a,b,c)\n",
    "\n",
    "print(f\"b = {50*51/2}\")\n"
   ]
  },
  {
   "cell_type": "code",
   "execution_count": 10,
   "metadata": {},
   "outputs": [],
   "source": []
  },
  {
   "cell_type": "code",
   "execution_count": 21,
   "metadata": {},
   "outputs": [],
   "source": [
    "#export\n",
    "class Linear(Operator):\n",
    "    \"\"\"performs gain*x + bias\"\"\"\n",
    "    def __init__(self,input_var_name, gain = 1, bias =0):\n",
    "        super().__init__(input_var_names = [input_var_name], namePrefix=\"Linear\")\n",
    "        self.gain, self.bias = gain, bias\n",
    "    def __call__(self,x): return self.gain * x + self.bias \n",
    "\n",
    "class Add(Operator):\n",
    "    \"\"\"Adds every vars passed as imputs\"\"\"\n",
    "    def __init__(self,*input_var_names) : super().__init__(*input_var_names, namePrefix=\"Add\")\n",
    "    def __call__(self,*inputs) : return sum(inputs)\n",
    "    \n",
    "class Mult(Operator):\n",
    "    \"\"\"Multiply every vars passed as imputs\"\"\"\n",
    "    def __init__(self,*input_var_names) : super().__init__(*input_var_names, namePrefix=\"Mult\")\n",
    "    def __call__(self,*inputs) : \n",
    "        ret = 1.\n",
    "        for inp in inputs : ret *= inp\n",
    "        return ret\n",
    "    \n",
    "class Const(Operator):\n",
    "    \"\"\"always returns the same value passed as val\"\"\"\n",
    "    def __init__(self, val): \n",
    "        super().__init__([], namePrefix=\"Const\")\n",
    "        self._val = val\n",
    "    def __call__(self): return self._val"
   ]
  },
  {
   "cell_type": "code",
   "execution_count": 30,
   "metadata": {},
   "outputs": [],
   "source": [
    "#export\n",
    "class Diff(Operator):\n",
    "    \"\"\"\n",
    "    returns the discreate differential of the input variable ponetialy over \n",
    "    `delay_in_step` timesteps\n",
    "    \"\"\"\n",
    "    def __init__(self,input_var_name, init_val, delay_in_step:int = 1):\n",
    "        super().__init__(input_var_names = [input_var_name],namePrefix = \"Diff\",  observes = True)\n",
    "        assert(type(delay_in_step) == int)\n",
    "        from collections import deque\n",
    "        self._delay_in_step =delay_in_step\n",
    "        self._past_vals : deque = deque([init_val for i in range(3*delay_in_step//2)])\n",
    "    def __call__(self,varin):\n",
    "        self._past_vals.popleft()\n",
    "        self._past_vals.append(varin)\n",
    "        ret = sum(self._past_vals[:self._delay_in_step])/self._delay_in_step\n",
    "        self._past_vals.popleft()\n",
    "        return (varin-ret)/self._delay_in_step\n",
    "\n",
    "\n",
    "class Delay(Operator):\n",
    "    \"\"\"\n",
    "    returns the value of  the input variable delayed of\n",
    "    `delay_in_step` timesteps\n",
    "    \"\"\"\n",
    "    def __init__(self,input_var_name, init_val, delay_in_step:int = 1):\n",
    "        super().__init__(input_var_names = [input_var_name],namePrefix = \"Delayed\",  observes = True)\n",
    "        assert(type(delay_in_step) == int)\n",
    "        from collections import deque\n",
    "        self._past_vals : deque = deque([init_val for i in range(delay_in_step)])\n",
    "    def __call__(self,varin):\n",
    "        self._past_vals.append(varin)\n",
    "        return self._past_vals.popleft()\n",
    "\n",
    "class FullReturnDelay(Operator):\n",
    "    def __init__(self,input_var_name, init_val, delay_in_step:int = 1):\n",
    "        super().__init__(input_var_names = [input_var_name],namePrefix = \"FullReturnDelayed\",  observes = True)\n",
    "        assert(type(delay) == int)\n",
    "        from collections import deque\n",
    "        self._step = 0\n",
    "        self._past_vals : deque = deque([init_val for i in range(delay_in_step)])\n",
    "        self._delay_in_step  = delay_in_step\n",
    "    def __call__(self,varin):\n",
    "        if self._step % self._delay_in_step == 0 : \n",
    "            self._return = list(self._past_vals)\n",
    "        self._step += 1\n",
    "        self._past_vals.append(varin)\n",
    "        self._past_vals.popleft()\n",
    "        return self._return"
   ]
  },
  {
   "cell_type": "code",
   "execution_count": null,
   "metadata": {},
   "outputs": [],
   "source": [
    "#export\n",
    "class Saturation(Operator):\n",
    "    \"\"\"return at most Max and at least Min but varin if inbetween the two\"\"\"\n",
    "    def __init__(self,input_var_name, Min, Max):\n",
    "        super().__init__(input_var_names = [input_var_name],namePrefix = \"Saturation\")\n",
    "        self._min, self._max = Min, Max\n",
    "    def __call__(self,varin): return max(self._min, min(self._max, varin))"
   ]
  },
  {
   "cell_type": "code",
   "execution_count": 28,
   "metadata": {},
   "outputs": [],
   "source": [
    "#export\n",
    "class Sink(Operator):\n",
    "    \"\"\"\n",
    "    returns the value of  the input variable delayed of\n",
    "    `delay_in_step` timesteps\n",
    "    \"\"\"\n",
    "    def __init__(self, input_var_name):\n",
    "        super().__init__(input_var_names = [input_var_name],namePrefix = \"Sink\",  observes = True)\n",
    "        self._vals = []\n",
    "    def __call__(self,varin): self._vals.append(varin)"
   ]
  },
  {
   "cell_type": "code",
   "execution_count": 37,
   "metadata": {},
   "outputs": [
    {
     "name": "stdout",
     "output_type": "stream",
     "text": [
      "Converted GC.ipynb.\n",
      "Converted blocs.ipynb.\n"
     ]
    }
   ],
   "source": [
    "#hide\n",
    "from local.notebook.export import notebook2script\n",
    "notebook2script(all_fs=True)"
   ]
  },
  {
   "cell_type": "code",
   "execution_count": 36,
   "metadata": {},
   "outputs": [
    {
     "ename": "ValueError",
     "evalue": "The truth value of an array with more than one element is ambiguous. Use a.any() or a.all()",
     "output_type": "error",
     "traceback": [
      "\u001b[1;31m---------------------------------------------------------------------------\u001b[0m",
      "\u001b[1;31mValueError\u001b[0m                                Traceback (most recent call last)",
      "\u001b[1;32m<ipython-input-36-afe0fddbdff8>\u001b[0m in \u001b[0;36m<module>\u001b[1;34m\u001b[0m\n\u001b[0;32m      1\u001b[0m \u001b[1;32mimport\u001b[0m \u001b[0mnumpy\u001b[0m \u001b[1;32mas\u001b[0m \u001b[0mnp\u001b[0m\u001b[1;33m\u001b[0m\u001b[1;33m\u001b[0m\u001b[0m\n\u001b[1;32m----> 2\u001b[1;33m \u001b[0mmin\u001b[0m\u001b[1;33m(\u001b[0m\u001b[1;33m(\u001b[0m\u001b[0mnp\u001b[0m\u001b[1;33m.\u001b[0m\u001b[0marange\u001b[0m\u001b[1;33m(\u001b[0m\u001b[1;36m3\u001b[0m\u001b[1;33m)\u001b[0m \u001b[1;33m+\u001b[0m \u001b[1;36m1\u001b[0m\u001b[1;33m)\u001b[0m\u001b[1;33m,\u001b[0m \u001b[0msum\u001b[0m\u001b[1;33m(\u001b[0m\u001b[1;33m[\u001b[0m\u001b[0mnp\u001b[0m\u001b[1;33m.\u001b[0m\u001b[0marange\u001b[0m\u001b[1;33m(\u001b[0m\u001b[1;36m3\u001b[0m\u001b[1;33m)\u001b[0m\u001b[1;33m,\u001b[0m \u001b[0mnp\u001b[0m\u001b[1;33m.\u001b[0m\u001b[0marange\u001b[0m\u001b[1;33m(\u001b[0m\u001b[1;36m3\u001b[0m\u001b[1;33m)\u001b[0m\u001b[1;33m,\u001b[0m \u001b[0mnp\u001b[0m\u001b[1;33m.\u001b[0m\u001b[0marange\u001b[0m\u001b[1;33m(\u001b[0m\u001b[1;36m3\u001b[0m\u001b[1;33m)\u001b[0m\u001b[1;33m]\u001b[0m\u001b[1;33m)\u001b[0m\u001b[1;33m)\u001b[0m\u001b[1;33m\u001b[0m\u001b[1;33m\u001b[0m\u001b[0m\n\u001b[0m",
      "\u001b[1;31mValueError\u001b[0m: The truth value of an array with more than one element is ambiguous. Use a.any() or a.all()"
     ]
    }
   ],
   "source": [
    "import numpy as np\n",
    "min((np.arange(3) + 1), sum([np.arange(3), np.arange(3), np.arange(3)]))"
   ]
  },
  {
   "cell_type": "code",
   "execution_count": null,
   "metadata": {},
   "outputs": [],
   "source": [
    "\n",
    "if len(input_var_names) == 1 : input_var_names[0].split()"
   ]
  }
 ],
 "metadata": {
  "kernelspec": {
   "display_name": "Python [conda env:root] *",
   "language": "python",
   "name": "conda-root-py"
  },
  "language_info": {
   "codemirror_mode": {
    "name": "ipython",
    "version": 3
   },
   "file_extension": ".py",
   "mimetype": "text/x-python",
   "name": "python",
   "nbconvert_exporter": "python",
   "pygments_lexer": "ipython3",
   "version": "3.7.3"
  }
 },
 "nbformat": 4,
 "nbformat_minor": 2
}
