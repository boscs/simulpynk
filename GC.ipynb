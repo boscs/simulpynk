{
 "cells": [
  {
   "cell_type": "code",
   "execution_count": null,
   "metadata": {},
   "outputs": [],
   "source": [
    "#export"
   ]
  },
  {
   "cell_type": "code",
   "execution_count": 1,
   "metadata": {},
   "outputs": [],
   "source": [
    "#export\n",
    "import inspect\n",
    "class UnknownCGVar(Exception): pass\n",
    "class NeverInitializedGcInput(Exception): pass\n",
    "class BadlyNamedGcVar(Exception): pass\n",
    "class PlaceHolderCGVal(): pass\n",
    "class CGVar():\n",
    "    def __init__(self,name:str, f = lambda:None,val = PlaceHolderCGVal(),is_input = False, deps : list = [],initialStep = 0):\n",
    "        self.name = name\n",
    "        self.f = f\n",
    "        self.opt : bool = False\n",
    "        self.deps : list = []\n",
    "        self.str_deps : list= deps\n",
    "        self.in_deps : list = []\n",
    "        self._step_counter : int = initialStep\n",
    "        self.val = val\n",
    "        self.has_changed : bool = True\n",
    "        self.is_input = is_input\n",
    "    def setVal(self,val):\n",
    "        if val != self.val:\n",
    "            self.val = val\n",
    "            self.is_input = True\n",
    "            self.has_changed = True\n",
    "    def run(self, CG):\n",
    "        if self._step_counter < CG._step_counter : \n",
    "            self._step_counter += CG._step_counter\n",
    "            if self.is_input:\n",
    "                if not self.has_changed and type(self.val) == PlaceHolderCGVal : raise NeverInitializedGcInput(f\"'{name}' has never been initialized in this graph\")\n",
    "                self.has_changed = False\n",
    "            else:\n",
    "                if not self.opt : self._run_unopt(CG)\n",
    "                else: self._run_opt(CG)\n",
    "        \n",
    "        if self.is_input : return (self.val, [self])\n",
    "        else :  return (self.val, self.in_deps) \n",
    "    def _run_unopt(self,CG):\n",
    "        self.in_deps = []\n",
    "        self.deps = []\n",
    "        rets=[]\n",
    "        for dep in self.str_deps:\n",
    "            try : dep = CG._vars[dep]\n",
    "            except KeyError : raise UnknownCGVar(f\"'{name}' has never been declared in this graph\")\n",
    "            self.deps.append(dep)\n",
    "            ret, in_dep = dep.run(CG)\n",
    "            rets.append(ret)\n",
    "            self.in_deps.extend(in_dep)\n",
    "        self.opt = True\n",
    "        self.val = self.f(*rets)\n",
    "    def _run_opt(self,CG):\n",
    "        rets = []\n",
    "        needRecompute = False\n",
    "        for in_dep in self.in_deps : needRecompute = (needRecompute or in_dep.has_changed)\n",
    "        if not needRecompute: self.has_changed = False\n",
    "        else:\n",
    "            for dep in self.deps: rets.append(dep.run(CG)[0])\n",
    "            oldval = self.val\n",
    "            self.val = self.f(*rets)\n",
    "            self.has_changed = (oldval != self.val)\n",
    "    def __repr__(self):\n",
    "        if self.is_input :\n",
    "            ret = str(self.name) +\"[label=\\\"\" + str(self.name) + \"\\\"]\"\n",
    "        else:\n",
    "            ret = str(self.name) +\"[label=\\\"\" + str(self.name) + f\" = f({', '.join(self.str_deps)})\\\"]\"\n",
    "            for dep in self.str_deps:\n",
    "                ret +=\"\\n\" + dep + \"->\" + str(self.name) + f'[color=\"{\"red\" if hasattr(self.f, \"_observes\") and self.f._observes else \"green\"}\"]'\n",
    "        return ret \n",
    "\n",
    "    \n",
    "    \n",
    "    \n",
    "    \n",
    "class ComputeGraph():\n",
    "    def __init__(self, name = \"graphComputer\", autostep = True):\n",
    "        self._name = name\n",
    "        self._autostep = autostep\n",
    "        self._observers : list = list()\n",
    "        self._step_counter : int = 0\n",
    "        self._vars : dict = dict()\n",
    "    def __getattr__(self,name):\n",
    "        try : return self._vars[name].run(CG = self)[0]\n",
    "        except KeyError : raise UnknownCGVar(f\"'{name}' has never been declared in this graph\")\n",
    "    def add(self, f, name:str = None):\n",
    "        if name == None: \n",
    "            name = f.__name__\n",
    "        for v in self._vars.values(): v.opt = False\n",
    "        deps = f._args if hasattr(f, \"_args\") else inspect.getfullargspec(f)[0]\n",
    "        self._vars[name] =  CGVar(name, f, deps=deps, initialStep = self._step_counter)\n",
    "        for dep_name in deps:\n",
    "            if dep_name not in self._vars.keys():\n",
    "                self._vars[dep_name]=CGVar(dep_name, is_input=True)\n",
    "        if hasattr(f, \"_observes\") and f._observes : self._observers.append(self._vars[name])\n",
    "    def setIn(self,**kwargs):\n",
    "        for k,v in kwargs.items():\n",
    "            try : self._vars[k].setVal(v)\n",
    "            except KeyError : \n",
    "                self.check_names(self,k)\n",
    "                for v in self._vars.values(): v.opt = False\n",
    "                self._vars[k] = CGVar(name=k, val=v, is_input=True)\n",
    "        if self._autostep : \n",
    "            self.makeStep()        \n",
    "    def _check_names(self,namelist):\n",
    "        _banned_name = []\n",
    "        _banned_name = dir(self)\n",
    "        for name in namelist:\n",
    "            if name in banned_names : raise BadlyNamedGcVar(f\"one of your graph var is called '{name}' ...\"+\n",
    "                                                        \"\\n It is currently not authorised with this library\")\n",
    "    def makeStep(self):\n",
    "        self._step_counter +=1\n",
    "        for obs in self._observers:\n",
    "            obs.run(CG = self)\n",
    "        \n",
    "    def __repr__(self):\n",
    "        ret = 'digraph '  + self._name +\" {\"\n",
    "        for k,var in self._vars.items():\n",
    "            ret += '\\n' + str(var.__repr__())\n",
    "        ret += \"}\"\n",
    "        return ret"
   ]
  },
  {
   "cell_type": "code",
   "execution_count": 20,
   "metadata": {},
   "outputs": [],
   "source": []
  },
  {
   "cell_type": "code",
   "execution_count": 21,
   "metadata": {},
   "outputs": [],
   "source": [
    "a = Operator([\"a\"], \"op\")\n",
    "Operator.fromLambda(\"sqkjS\")"
   ]
  },
  {
   "cell_type": "code",
   "execution_count": 57,
   "metadata": {},
   "outputs": [],
   "source": [
    "imp\n",
    "g = ComputeGraph()\n",
    "import math\n",
    "def B(t,c,d):\n",
    "    return math.cos(t)+c-(d*t)\n",
    "g.add(Operators.add(\"A B\"))\n",
    "#g.add(\"B\",B)\n",
    "g.add(lambda A,B: A+B, \"addAB\")\n",
    "g.add(lambda t: math.cos(t),\"A\")\n",
    "\n",
    "\n"
   ]
  },
  {
   "cell_type": "code",
   "execution_count": 24,
   "metadata": {},
   "outputs": [],
   "source": [
    "count = 0\n",
    "for i in range(50):\n",
    "    count += i\n",
    "    g.setIn(t=i,c=3, d=4)\n",
    "\n"
   ]
  },
  {
   "cell_type": "code",
   "execution_count": 26,
   "metadata": {},
   "outputs": [
    {
     "data": {
      "text/plain": [
       "4.0"
      ]
     },
     "execution_count": 26,
     "metadata": {},
     "output_type": "execute_result"
    }
   ],
   "source": [
    "g.Avg_d"
   ]
  },
  {
   "cell_type": "code",
   "execution_count": 55,
   "metadata": {},
   "outputs": [],
   "source": [
    "\n",
    "avg = g._vars[\"Avg_t\"]\n",
    "#count/50"
   ]
  },
  {
   "cell_type": "code",
   "execution_count": 56,
   "metadata": {},
   "outputs": [
    {
     "data": {
      "text/plain": [
       "Avg_t[label=\"Avg_t = f(t)\"]\n",
       "t->Avg_t[color=\"red\"]"
      ]
     },
     "execution_count": 56,
     "metadata": {},
     "output_type": "execute_result"
    }
   ],
   "source": [
    "avg."
   ]
  },
  {
   "cell_type": "code",
   "execution_count": 47,
   "metadata": {},
   "outputs": [
    {
     "data": {
      "text/plain": [
       "0"
      ]
     },
     "execution_count": 47,
     "metadata": {},
     "output_type": "execute_result"
    }
   ],
   "source": [
    "g._vars[\"A\"]._step_counter"
   ]
  },
  {
   "cell_type": "code",
   "execution_count": 42,
   "metadata": {},
   "outputs": [
    {
     "data": {
      "image/svg+xml": [
       "<svg height=\"188pt\" viewBox=\"0.00 0.00 529.84 188.00\" width=\"530pt\" xmlns=\"http://www.w3.org/2000/svg\" xmlns:xlink=\"http://www.w3.org/1999/xlink\">\n",
       "<g class=\"graph\" id=\"graph0\" transform=\"scale(1 1) rotate(0) translate(4 184)\">\n",
       "<title>graphComputer</title>\n",
       "<polygon fill=\"white\" points=\"-4,4 -4,-184 525.84,-184 525.84,4 -4,4\" stroke=\"none\"/>\n",
       "<!-- B -->\n",
       "<g class=\"node\" id=\"node1\"><title>B</title>\n",
       "<ellipse cx=\"303.347\" cy=\"-90\" fill=\"none\" rx=\"57.3905\" ry=\"18\" stroke=\"black\"/>\n",
       "<text font-family=\"Times New Roman,serif\" font-size=\"14.00\" text-anchor=\"middle\" x=\"303.347\" y=\"-86.3\">B = f(t, c, d)</text>\n",
       "</g>\n",
       "<!-- addAB -->\n",
       "<g class=\"node\" id=\"node5\"><title>addAB</title>\n",
       "<ellipse cx=\"170.347\" cy=\"-18\" fill=\"none\" rx=\"72.5877\" ry=\"18\" stroke=\"black\"/>\n",
       "<text font-family=\"Times New Roman,serif\" font-size=\"14.00\" text-anchor=\"middle\" x=\"170.347\" y=\"-14.3\">addAB = f(A, B)</text>\n",
       "</g>\n",
       "<!-- B&#45;&gt;addAB -->\n",
       "<g class=\"edge\" id=\"edge5\"><title>B-&gt;addAB</title>\n",
       "<path d=\"M275.141,-74.1548C255.878,-64.0166 230.113,-50.456 208.951,-39.3181\" fill=\"none\" stroke=\"green\"/>\n",
       "<polygon fill=\"green\" points=\"210.374,-36.1119 199.895,-34.5516 207.114,-42.3063 210.374,-36.1119\" stroke=\"green\"/>\n",
       "</g>\n",
       "<!-- t -->\n",
       "<g class=\"node\" id=\"node2\"><title>t</title>\n",
       "<ellipse cx=\"161.347\" cy=\"-162\" fill=\"none\" rx=\"27\" ry=\"18\" stroke=\"black\"/>\n",
       "<text font-family=\"Times New Roman,serif\" font-size=\"14.00\" text-anchor=\"middle\" x=\"161.347\" y=\"-158.3\">t</text>\n",
       "</g>\n",
       "<!-- t&#45;&gt;B -->\n",
       "<g class=\"edge\" id=\"edge1\"><title>t-&gt;B</title>\n",
       "<path d=\"M182.605,-150.52C204.268,-139.842 238.345,-123.043 264.781,-110.011\" fill=\"none\" stroke=\"green\"/>\n",
       "<polygon fill=\"green\" points=\"266.359,-113.136 273.781,-105.575 263.264,-106.857 266.359,-113.136\" stroke=\"green\"/>\n",
       "</g>\n",
       "<!-- A -->\n",
       "<g class=\"node\" id=\"node6\"><title>A</title>\n",
       "<ellipse cx=\"38.3466\" cy=\"-90\" fill=\"none\" rx=\"38.1938\" ry=\"18\" stroke=\"black\"/>\n",
       "<text font-family=\"Times New Roman,serif\" font-size=\"14.00\" text-anchor=\"middle\" x=\"38.3466\" y=\"-86.3\">A = f(t)</text>\n",
       "</g>\n",
       "<!-- t&#45;&gt;A -->\n",
       "<g class=\"edge\" id=\"edge6\"><title>t-&gt;A</title>\n",
       "<path d=\"M141.311,-149.597C122.165,-138.702 92.9843,-122.095 70.5703,-109.339\" fill=\"none\" stroke=\"green\"/>\n",
       "<polygon fill=\"green\" points=\"72.1575,-106.215 61.7352,-104.311 68.6952,-112.299 72.1575,-106.215\" stroke=\"green\"/>\n",
       "</g>\n",
       "<!-- average_t -->\n",
       "<g class=\"node\" id=\"node7\"><title>average_t</title>\n",
       "<ellipse cx=\"161.347\" cy=\"-90\" fill=\"none\" rx=\"66.8882\" ry=\"18\" stroke=\"black\"/>\n",
       "<text font-family=\"Times New Roman,serif\" font-size=\"14.00\" text-anchor=\"middle\" x=\"161.347\" y=\"-86.3\">average_t = f(t)</text>\n",
       "</g>\n",
       "<!-- t&#45;&gt;average_t -->\n",
       "<g class=\"edge\" id=\"edge7\"><title>t-&gt;average_t</title>\n",
       "<path d=\"M161.347,-143.697C161.347,-135.983 161.347,-126.712 161.347,-118.112\" fill=\"none\" stroke=\"red\"/>\n",
       "<polygon fill=\"red\" points=\"164.847,-118.104 161.347,-108.104 157.847,-118.104 164.847,-118.104\" stroke=\"red\"/>\n",
       "</g>\n",
       "<!-- c -->\n",
       "<g class=\"node\" id=\"node3\"><title>c</title>\n",
       "<ellipse cx=\"303.347\" cy=\"-162\" fill=\"none\" rx=\"27\" ry=\"18\" stroke=\"black\"/>\n",
       "<text font-family=\"Times New Roman,serif\" font-size=\"14.00\" text-anchor=\"middle\" x=\"303.347\" y=\"-158.3\">c</text>\n",
       "</g>\n",
       "<!-- c&#45;&gt;B -->\n",
       "<g class=\"edge\" id=\"edge2\"><title>c-&gt;B</title>\n",
       "<path d=\"M303.347,-143.697C303.347,-135.983 303.347,-126.712 303.347,-118.112\" fill=\"none\" stroke=\"green\"/>\n",
       "<polygon fill=\"green\" points=\"306.847,-118.104 303.347,-108.104 299.847,-118.104 306.847,-118.104\" stroke=\"green\"/>\n",
       "</g>\n",
       "<!-- d -->\n",
       "<g class=\"node\" id=\"node4\"><title>d</title>\n",
       "<ellipse cx=\"412.347\" cy=\"-162\" fill=\"none\" rx=\"27\" ry=\"18\" stroke=\"black\"/>\n",
       "<text font-family=\"Times New Roman,serif\" font-size=\"14.00\" text-anchor=\"middle\" x=\"412.347\" y=\"-158.3\">d</text>\n",
       "</g>\n",
       "<!-- d&#45;&gt;B -->\n",
       "<g class=\"edge\" id=\"edge3\"><title>d-&gt;B</title>\n",
       "<path d=\"M393.36,-148.807C377.564,-138.662 354.717,-123.99 335.994,-111.966\" fill=\"none\" stroke=\"green\"/>\n",
       "<polygon fill=\"green\" points=\"337.758,-108.94 327.453,-106.481 333.976,-114.83 337.758,-108.94\" stroke=\"green\"/>\n",
       "</g>\n",
       "<!-- average_d -->\n",
       "<g class=\"node\" id=\"node8\"><title>average_d</title>\n",
       "<ellipse cx=\"450.347\" cy=\"-90\" fill=\"none\" rx=\"71.4873\" ry=\"18\" stroke=\"black\"/>\n",
       "<text font-family=\"Times New Roman,serif\" font-size=\"14.00\" text-anchor=\"middle\" x=\"450.347\" y=\"-86.3\">average_d = f(d)</text>\n",
       "</g>\n",
       "<!-- d&#45;&gt;average_d -->\n",
       "<g class=\"edge\" id=\"edge8\"><title>d-&gt;average_d</title>\n",
       "<path d=\"M421.16,-144.765C425.633,-136.525 431.175,-126.317 436.224,-117.016\" fill=\"none\" stroke=\"red\"/>\n",
       "<polygon fill=\"red\" points=\"439.356,-118.582 441.051,-108.124 433.204,-115.243 439.356,-118.582\" stroke=\"red\"/>\n",
       "</g>\n",
       "<!-- A&#45;&gt;addAB -->\n",
       "<g class=\"edge\" id=\"edge4\"><title>A-&gt;addAB</title>\n",
       "<path d=\"M62.8654,-75.9976C82.262,-65.7115 109.697,-51.1627 131.994,-39.3387\" fill=\"none\" stroke=\"green\"/>\n",
       "<polygon fill=\"green\" points=\"133.688,-42.4022 140.882,-34.625 130.408,-36.2179 133.688,-42.4022\" stroke=\"green\"/>\n",
       "</g>\n",
       "</g>\n",
       "</svg>"
      ],
      "text/plain": [
       "<IPython.core.display.SVG object>"
      ]
     },
     "metadata": {},
     "output_type": "display_data"
    }
   ],
   "source": [
    "import os\n",
    "os.environ[\"PATH\"] += os.pathsep + 'C:/Program Files (x86)/Graphviz2.38/bin/'\n",
    "from IPython.display import SVG\n",
    "from graphviz import Source\n",
    "from IPython.display import display\n",
    "graph = Source(g)\n",
    "display(SVG(graph.pipe(format='svg')))"
   ]
  },
  {
   "cell_type": "code",
   "execution_count": null,
   "metadata": {},
   "outputs": [],
   "source": []
  }
 ],
 "metadata": {
  "kernelspec": {
   "display_name": "Python 3",
   "language": "python",
   "name": "python3"
  },
  "language_info": {
   "codemirror_mode": {
    "name": "ipython",
    "version": 3
   },
   "file_extension": ".py",
   "mimetype": "text/x-python",
   "name": "python",
   "nbconvert_exporter": "python",
   "pygments_lexer": "ipython3",
   "version": "3.7.3"
  }
 },
 "nbformat": 4,
 "nbformat_minor": 2
}
