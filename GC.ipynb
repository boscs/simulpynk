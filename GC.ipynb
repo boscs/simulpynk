{
 "cells": [
  {
   "cell_type": "code",
   "execution_count": 2,
   "metadata": {},
   "outputs": [],
   "source": [
    "#default_exp cg"
   ]
  },
  {
   "cell_type": "code",
   "execution_count": 1,
   "metadata": {},
   "outputs": [],
   "source": [
    "#export\n",
    "import local.operators as operators\n",
    "import inspect\n",
    "import math\n",
    "class UnknownCGVar(Exception): pass\n",
    "class NeverInitializedGcInput(Exception): pass\n",
    "class BadlyNamedGcVar(Exception): pass\n",
    "class PlaceHolderCGVal(): pass\n",
    "class CGVar():\n",
    "    def __init__(self,name:str, f = lambda:None,val = PlaceHolderCGVal(),is_input = False, deps : list = [],initialStep = 0):\n",
    "        self.name = name\n",
    "        self.f = f\n",
    "        self.opt : bool = False\n",
    "        self.deps : list = []\n",
    "        self.str_deps : list= deps\n",
    "        self.in_deps : list = []\n",
    "        self._step_counter : int = initialStep\n",
    "        self.val = val\n",
    "        self.has_changed : bool = True\n",
    "        self.is_input = is_input\n",
    "    def setVal(self,val):\n",
    "        if val != self.val:\n",
    "            self.val = val\n",
    "            self.is_input = True\n",
    "            self.has_changed = True\n",
    "    def run(self, CG):\n",
    "        if self._step_counter < CG._step_counter : \n",
    "            self._step_counter += CG._step_counter\n",
    "            if self.is_input:\n",
    "                if not self.has_changed and type(self.val) == PlaceHolderCGVal : raise NeverInitializedGcInput(f\"'{name}' has never been initialized in this graph\")\n",
    "                self.has_changed = False\n",
    "            else:\n",
    "                if not self.opt : self._run_unopt(CG)\n",
    "                else: self._run_opt(CG)\n",
    "        \n",
    "        if self.is_input : return (self.val, [self])\n",
    "        else :  return (self.val, self.in_deps) \n",
    "    def _run_unopt(self,CG):\n",
    "        self.in_deps = []\n",
    "        self.deps = []\n",
    "        rets=[]\n",
    "        for dep in self.str_deps:\n",
    "            try : dep = CG._vars[dep]\n",
    "            except KeyError : raise UnknownCGVar(f\"'{name}' has never been declared in this graph\")\n",
    "            self.deps.append(dep)\n",
    "            ret, in_dep = dep.run(CG)\n",
    "            rets.append(ret)\n",
    "            self.in_deps.extend(in_dep)\n",
    "        self.opt = True\n",
    "        self.val = self.f(*rets)\n",
    "    def _run_opt(self,CG):\n",
    "        rets = []\n",
    "        needRecompute = False\n",
    "        for in_dep in self.in_deps : needRecompute = (needRecompute or in_dep.has_changed)\n",
    "        if not needRecompute: self.has_changed = False\n",
    "        else:\n",
    "            for dep in self.deps: rets.append(dep.run(CG)[0])\n",
    "            oldval = self.val\n",
    "            self.val = self.f(*rets)\n",
    "            self.has_changed = (oldval != self.val)\n",
    "    def __repr__(self):\n",
    "        if self.is_input :\n",
    "            ret = str(self.name) +\"[label=\\\"\" + str(self.name) + \"\\\"]\"\n",
    "        else:\n",
    "            ret = str(self.name) +\"[label=\\\"\" + str(self.name) + f\" = f({', '.join(self.str_deps)})\\\"]\"\n",
    "            for dep in self.str_deps:\n",
    "                ret +=\"\\n\" + dep + \"->\" + str(self.name) + f'[color=\"{\"red\" if hasattr(self.f, \"_observes\") and self.f._observes else \"green\"}\"]'\n",
    "        return ret \n",
    "\n",
    "    \n",
    "    \n",
    "    \n",
    "    \n",
    "class ComputeGraph():\n",
    "    def __init__(self, name = \"DAG\", autostep = True):\n",
    "        self._name = name\n",
    "        self._autostep = autostep\n",
    "        self._observers : list = list()\n",
    "        self._step_counter : int = 0\n",
    "        self._vars : dict = dict()\n",
    "    def __getattr__(self,name):\n",
    "        try : return self._vars[name].run(CG = self)[0]\n",
    "        except KeyError : raise UnknownCGVar(f\"'{name}' has never been declared in this graph\")\n",
    "    def add(self, f, name:str = None):\n",
    "        if name == None: \n",
    "            name = f.__name__\n",
    "        for v in self._vars.values(): v.opt = False\n",
    "        deps = f._args if hasattr(f, \"_args\") else inspect.getfullargspec(f)[0]\n",
    "        self._vars[name] =  CGVar(name, f, deps=deps, initialStep = self._step_counter)\n",
    "        for dep_name in deps:\n",
    "            if dep_name not in self._vars.keys():\n",
    "                self._vars[dep_name]=CGVar(dep_name, is_input=True)\n",
    "        if hasattr(f, \"_observes\") and f._observes : self._observers.append(self._vars[name])\n",
    "    def setIn(self,**kwargs):\n",
    "        for k,v in kwargs.items():\n",
    "            try : self._vars[k].setVal(v)\n",
    "            except KeyError : \n",
    "                self.check_names(self,k)\n",
    "                for v in self._vars.values(): v.opt = False\n",
    "                self._vars[k] = CGVar(name=k, val=v, is_input=True)\n",
    "        if self._autostep : \n",
    "            self.makeStep()        \n",
    "    def _check_names(self,namelist):\n",
    "        _banned_name = []\n",
    "        _banned_name = dir(self)\n",
    "        for name in namelist:\n",
    "            if name in banned_names : raise BadlyNamedGcVar(f\"one of your graph var is called '{name}' ...\"+\n",
    "                                                        \"\\n It is currently not authorised with this library\")\n",
    "    def makeStep(self):\n",
    "        self._step_counter +=1\n",
    "        for obs in self._observers:\n",
    "            obs.run(CG = self)\n",
    "        \n",
    "    def __repr__(self):\n",
    "        ret = 'digraph '  + self._name +\" {\"\n",
    "        for k,var in self._vars.items():\n",
    "            ret += '\\n' + str(var.__repr__())\n",
    "        ret += \"\\n}\"\n",
    "        return ret"
   ]
  },
  {
   "cell_type": "code",
   "execution_count": 7,
   "metadata": {},
   "outputs": [
    {
     "name": "stdout",
     "output_type": "stream",
     "text": [
      "['B', 'A']\n",
      "['B']\n",
      "['addAB']\n"
     ]
    }
   ],
   "source": [
    "\n",
    "\n",
    "def B(t,c,d):\n",
    "    return math.cos(t)+c-(d*t)\n",
    "\n",
    "g = ComputeGraph()\n",
    "g.add(B)#created a var B that depends on t,c and d using the above function\n",
    "g.add(operators.Add(\"B A\"),\"AplusB\")\n",
    "g.add(lambda A,B: A+B, \"addAB\")#created a var 'addAB' that depends on A and B using a lambda\n",
    "g.add(lambda t: math.cos(t),\"A\")\n",
    "g.add(operators.Avg(\"B\"))#created a var 'Avg_B' using operators\n",
    "g.add(operators.Exp_avg(\"addAB\"), \"foo\")\n"
   ]
  },
  {
   "cell_type": "code",
   "execution_count": 8,
   "metadata": {},
   "outputs": [
    {
     "data": {
      "text/plain": [
       "digraph DAG {\n",
       "B[label=\"B = f(t, c, d)\"]\n",
       "t->B[color=\"green\"]\n",
       "c->B[color=\"green\"]\n",
       "d->B[color=\"green\"]\n",
       "t[label=\"t\"]\n",
       "c[label=\"c\"]\n",
       "d[label=\"d\"]\n",
       "AplusB[label=\"AplusB = f(B, A)\"]\n",
       "B->AplusB[color=\"green\"]\n",
       "A->AplusB[color=\"green\"]\n",
       "A[label=\"A = f(t)\"]\n",
       "t->A[color=\"green\"]\n",
       "addAB[label=\"addAB = f(A, B)\"]\n",
       "A->addAB[color=\"green\"]\n",
       "B->addAB[color=\"green\"]\n",
       "Avg_B[label=\"Avg_B = f(B)\"]\n",
       "B->Avg_B[color=\"red\"]\n",
       "foo[label=\"foo = f(addAB)\"]\n",
       "addAB->foo[color=\"red\"]\n",
       "}"
      ]
     },
     "execution_count": 8,
     "metadata": {},
     "output_type": "execute_result"
    }
   ],
   "source": [
    "g\n"
   ]
  },
  {
   "cell_type": "code",
   "execution_count": 24,
   "metadata": {},
   "outputs": [],
   "source": [
    "count = 0\n",
    "for i in range(50):\n",
    "    count += i\n",
    "    g.setIn(t=i,c=3, d=4)\n",
    "\n"
   ]
  },
  {
   "cell_type": "code",
   "execution_count": 26,
   "metadata": {},
   "outputs": [
    {
     "data": {
      "text/plain": [
       "4.0"
      ]
     },
     "execution_count": 26,
     "metadata": {},
     "output_type": "execute_result"
    }
   ],
   "source": [
    "g.Avg_d"
   ]
  },
  {
   "cell_type": "code",
   "execution_count": 55,
   "metadata": {},
   "outputs": [],
   "source": [
    "\n",
    "avg = g._vars[\"Avg_t\"]\n",
    "#count/50"
   ]
  },
  {
   "cell_type": "code",
   "execution_count": 4,
   "metadata": {},
   "outputs": [
    {
     "data": {
      "text/plain": [
       "['A', 'B']"
      ]
     },
     "execution_count": 4,
     "metadata": {},
     "output_type": "execute_result"
    }
   ],
   "source": [
    "'A B'.split()"
   ]
  },
  {
   "cell_type": "code",
   "execution_count": 47,
   "metadata": {},
   "outputs": [
    {
     "data": {
      "text/plain": [
       "0"
      ]
     },
     "execution_count": 47,
     "metadata": {},
     "output_type": "execute_result"
    }
   ],
   "source": [
    "g._vars[\"A\"]._step_counter"
   ]
  },
  {
   "cell_type": "code",
   "execution_count": 9,
   "metadata": {},
   "outputs": [
    {
     "data": {
      "image/svg+xml": [
       "<svg height=\"260pt\" viewBox=\"0.00 0.00 461.84 260.00\" width=\"462pt\" xmlns=\"http://www.w3.org/2000/svg\" xmlns:xlink=\"http://www.w3.org/1999/xlink\">\n",
       "<g class=\"graph\" id=\"graph0\" transform=\"scale(1 1) rotate(0) translate(4 256)\">\n",
       "<title>DAG</title>\n",
       "<polygon fill=\"white\" points=\"-4,4 -4,-256 457.838,-256 457.838,4 -4,4\" stroke=\"none\"/>\n",
       "<!-- B -->\n",
       "<g class=\"node\" id=\"node1\"><title>B</title>\n",
       "<ellipse cx=\"214.745\" cy=\"-162\" fill=\"none\" rx=\"57.3905\" ry=\"18\" stroke=\"black\"/>\n",
       "<text font-family=\"Times New Roman,serif\" font-size=\"14.00\" text-anchor=\"middle\" x=\"214.745\" y=\"-158.3\">B = f(t, c, d)</text>\n",
       "</g>\n",
       "<!-- AplusB -->\n",
       "<g class=\"node\" id=\"node5\"><title>AplusB</title>\n",
       "<ellipse cx=\"379.745\" cy=\"-90\" fill=\"none\" rx=\"74.187\" ry=\"18\" stroke=\"black\"/>\n",
       "<text font-family=\"Times New Roman,serif\" font-size=\"14.00\" text-anchor=\"middle\" x=\"379.745\" y=\"-86.3\">AplusB = f(B, A)</text>\n",
       "</g>\n",
       "<!-- B&#45;&gt;AplusB -->\n",
       "<g class=\"edge\" id=\"edge4\"><title>B-&gt;AplusB</title>\n",
       "<path d=\"M247.343,-147.17C272.463,-136.513 307.469,-121.662 335.178,-109.907\" fill=\"none\" stroke=\"green\"/>\n",
       "<polygon fill=\"green\" points=\"336.808,-113.018 344.647,-105.89 334.074,-106.574 336.808,-113.018\" stroke=\"green\"/>\n",
       "</g>\n",
       "<!-- addAB -->\n",
       "<g class=\"node\" id=\"node7\"><title>addAB</title>\n",
       "<ellipse cx=\"214.745\" cy=\"-90\" fill=\"none\" rx=\"72.5877\" ry=\"18\" stroke=\"black\"/>\n",
       "<text font-family=\"Times New Roman,serif\" font-size=\"14.00\" text-anchor=\"middle\" x=\"214.745\" y=\"-86.3\">addAB = f(A, B)</text>\n",
       "</g>\n",
       "<!-- B&#45;&gt;addAB -->\n",
       "<g class=\"edge\" id=\"edge8\"><title>B-&gt;addAB</title>\n",
       "<path d=\"M214.745,-143.697C214.745,-135.983 214.745,-126.712 214.745,-118.112\" fill=\"none\" stroke=\"green\"/>\n",
       "<polygon fill=\"green\" points=\"218.245,-118.104 214.745,-108.104 211.245,-118.104 218.245,-118.104\" stroke=\"green\"/>\n",
       "</g>\n",
       "<!-- Avg_B -->\n",
       "<g class=\"node\" id=\"node8\"><title>Avg_B</title>\n",
       "<ellipse cx=\"61.7445\" cy=\"-90\" fill=\"none\" rx=\"61.99\" ry=\"18\" stroke=\"black\"/>\n",
       "<text font-family=\"Times New Roman,serif\" font-size=\"14.00\" text-anchor=\"middle\" x=\"61.7445\" y=\"-86.3\">Avg_B = f(B)</text>\n",
       "</g>\n",
       "<!-- B&#45;&gt;Avg_B -->\n",
       "<g class=\"edge\" id=\"edge9\"><title>B-&gt;Avg_B</title>\n",
       "<path d=\"M183.783,-146.834C160.477,-136.172 128.306,-121.453 102.846,-109.805\" fill=\"none\" stroke=\"red\"/>\n",
       "<polygon fill=\"red\" points=\"103.999,-106.483 93.4491,-105.505 101.086,-112.849 103.999,-106.483\" stroke=\"red\"/>\n",
       "</g>\n",
       "<!-- t -->\n",
       "<g class=\"node\" id=\"node2\"><title>t</title>\n",
       "<ellipse cx=\"318.745\" cy=\"-234\" fill=\"none\" rx=\"27\" ry=\"18\" stroke=\"black\"/>\n",
       "<text font-family=\"Times New Roman,serif\" font-size=\"14.00\" text-anchor=\"middle\" x=\"318.745\" y=\"-230.3\">t</text>\n",
       "</g>\n",
       "<!-- t&#45;&gt;B -->\n",
       "<g class=\"edge\" id=\"edge1\"><title>t-&gt;B</title>\n",
       "<path d=\"M300.151,-220.485C285.189,-210.414 263.827,-196.036 246.211,-184.179\" fill=\"none\" stroke=\"green\"/>\n",
       "<polygon fill=\"green\" points=\"248.158,-181.271 237.908,-178.591 244.25,-187.078 248.158,-181.271\" stroke=\"green\"/>\n",
       "</g>\n",
       "<!-- A -->\n",
       "<g class=\"node\" id=\"node6\"><title>A</title>\n",
       "<ellipse cx=\"328.745\" cy=\"-162\" fill=\"none\" rx=\"38.1938\" ry=\"18\" stroke=\"black\"/>\n",
       "<text font-family=\"Times New Roman,serif\" font-size=\"14.00\" text-anchor=\"middle\" x=\"328.745\" y=\"-158.3\">A = f(t)</text>\n",
       "</g>\n",
       "<!-- t&#45;&gt;A -->\n",
       "<g class=\"edge\" id=\"edge6\"><title>t-&gt;A</title>\n",
       "<path d=\"M321.165,-216.055C322.267,-208.346 323.598,-199.027 324.835,-190.364\" fill=\"none\" stroke=\"green\"/>\n",
       "<polygon fill=\"green\" points=\"328.327,-190.67 326.277,-180.275 321.398,-189.68 328.327,-190.67\" stroke=\"green\"/>\n",
       "</g>\n",
       "<!-- c -->\n",
       "<g class=\"node\" id=\"node3\"><title>c</title>\n",
       "<ellipse cx=\"225.745\" cy=\"-234\" fill=\"none\" rx=\"27\" ry=\"18\" stroke=\"black\"/>\n",
       "<text font-family=\"Times New Roman,serif\" font-size=\"14.00\" text-anchor=\"middle\" x=\"225.745\" y=\"-230.3\">c</text>\n",
       "</g>\n",
       "<!-- c&#45;&gt;B -->\n",
       "<g class=\"edge\" id=\"edge2\"><title>c-&gt;B</title>\n",
       "<path d=\"M223.082,-216.055C221.87,-208.346 220.406,-199.027 219.045,-190.364\" fill=\"none\" stroke=\"green\"/>\n",
       "<polygon fill=\"green\" points=\"222.469,-189.611 217.459,-180.275 215.554,-190.697 222.469,-189.611\" stroke=\"green\"/>\n",
       "</g>\n",
       "<!-- d -->\n",
       "<g class=\"node\" id=\"node4\"><title>d</title>\n",
       "<ellipse cx=\"153.745\" cy=\"-234\" fill=\"none\" rx=\"27\" ry=\"18\" stroke=\"black\"/>\n",
       "<text font-family=\"Times New Roman,serif\" font-size=\"14.00\" text-anchor=\"middle\" x=\"153.745\" y=\"-230.3\">d</text>\n",
       "</g>\n",
       "<!-- d&#45;&gt;B -->\n",
       "<g class=\"edge\" id=\"edge3\"><title>d-&gt;B</title>\n",
       "<path d=\"M166.681,-218.155C174.408,-209.288 184.416,-197.803 193.298,-187.611\" fill=\"none\" stroke=\"green\"/>\n",
       "<polygon fill=\"green\" points=\"196.183,-189.628 200.114,-179.789 190.906,-185.029 196.183,-189.628\" stroke=\"green\"/>\n",
       "</g>\n",
       "<!-- A&#45;&gt;AplusB -->\n",
       "<g class=\"edge\" id=\"edge5\"><title>A-&gt;AplusB</title>\n",
       "<path d=\"M340.573,-144.765C346.701,-136.354 354.324,-125.89 361.213,-116.436\" fill=\"none\" stroke=\"green\"/>\n",
       "<polygon fill=\"green\" points=\"364.209,-118.267 367.269,-108.124 358.551,-114.145 364.209,-118.267\" stroke=\"green\"/>\n",
       "</g>\n",
       "<!-- A&#45;&gt;addAB -->\n",
       "<g class=\"edge\" id=\"edge7\"><title>A-&gt;addAB</title>\n",
       "<path d=\"M306.494,-147.337C290.345,-137.421 268.179,-123.811 249.68,-112.451\" fill=\"none\" stroke=\"green\"/>\n",
       "<polygon fill=\"green\" points=\"251.288,-109.332 240.935,-107.082 247.626,-115.297 251.288,-109.332\" stroke=\"green\"/>\n",
       "</g>\n",
       "<!-- foo -->\n",
       "<g class=\"node\" id=\"node9\"><title>foo</title>\n",
       "<ellipse cx=\"214.745\" cy=\"-18\" fill=\"none\" rx=\"68.4888\" ry=\"18\" stroke=\"black\"/>\n",
       "<text font-family=\"Times New Roman,serif\" font-size=\"14.00\" text-anchor=\"middle\" x=\"214.745\" y=\"-14.3\">foo = f(addAB)</text>\n",
       "</g>\n",
       "<!-- addAB&#45;&gt;foo -->\n",
       "<g class=\"edge\" id=\"edge10\"><title>addAB-&gt;foo</title>\n",
       "<path d=\"M214.745,-71.6966C214.745,-63.9827 214.745,-54.7125 214.745,-46.1124\" fill=\"none\" stroke=\"red\"/>\n",
       "<polygon fill=\"red\" points=\"218.245,-46.1043 214.745,-36.1043 211.245,-46.1044 218.245,-46.1043\" stroke=\"red\"/>\n",
       "</g>\n",
       "</g>\n",
       "</svg>"
      ],
      "text/plain": [
       "<IPython.core.display.SVG object>"
      ]
     },
     "metadata": {},
     "output_type": "display_data"
    }
   ],
   "source": [
    "import os\n",
    "os.environ[\"PATH\"] += os.pathsep + 'C:/Program Files (x86)/Graphviz2.38/bin/'\n",
    "from IPython.display import SVG\n",
    "from graphviz import Source\n",
    "from IPython.display import display\n",
    "graph = Source(g)\n",
    "display(SVG(graph.pipe(format='svg')))"
   ]
  },
  {
   "cell_type": "code",
   "execution_count": 4,
   "metadata": {},
   "outputs": [
    {
     "name": "stdout",
     "output_type": "stream",
     "text": [
      "Converted 00_test.ipynb.\n",
      "Converted 01_core.ipynb.\n",
      "Converted 01a_utils.ipynb.\n",
      "Converted 02_script.ipynb.\n",
      "Converted 90_notebook_core.ipynb.\n",
      "Converted 91_notebook_export.ipynb.\n",
      "Converted 93_notebook_export2html.ipynb.\n",
      "Converted 94_notebook_test.ipynb.\n",
      "Converted 95_index.ipynb.\n",
      "Converted 96_data_external.ipynb.\n",
      "Converted 97_utils_test.ipynb.\n",
      "Converted GC.ipynb.\n",
      "This cell doesn't have an export destination and was ignored:\n",
      "e\n",
      "Converted Operators.ipynb.\n"
     ]
    }
   ],
   "source": [
    "#hide\n",
    "from local.notebook.export import notebook2script\n",
    "notebook2script(all_fs=True)"
   ]
  }
 ],
 "metadata": {
  "kernelspec": {
   "display_name": "Python 3",
   "language": "python",
   "name": "python3"
  },
  "language_info": {
   "codemirror_mode": {
    "name": "ipython",
    "version": 3
   },
   "file_extension": ".py",
   "mimetype": "text/x-python",
   "name": "python",
   "nbconvert_exporter": "python",
   "pygments_lexer": "ipython3",
   "version": "3.7.3"
  }
 },
 "nbformat": 4,
 "nbformat_minor": 2
}
